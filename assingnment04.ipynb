{
 "cells": [
  {
   "cell_type": "markdown",
   "id": "67a16999",
   "metadata": {},
   "source": [
    "# 1. LeetCode 225. Implement Stack using Queues"
   ]
  },
  {
   "cell_type": "code",
   "execution_count": null,
   "id": "6f374105",
   "metadata": {
    "vscode": {
     "languageId": "plaintext"
    }
   },
   "outputs": [],
   "source": [
    "class MyQueue:\n",
    "    def __init__(self):\n",
    "        self.stack_in = []\n",
    "        self.stack_out = []\n",
    "\n",
    "    def push(self, x: int) -> None:\n",
    "        self.stack_in.append(x)\n",
    "\n",
    "    def pop(self) -> int:\n",
    "        self.move()\n",
    "        return self.stack_out.pop()\n",
    "\n",
    "    def peek(self) -> int:\n",
    "        self.move()\n",
    "        return self.stack_out[-1]\n",
    "\n",
    "    def empty(self) -> bool:\n",
    "        return not self.stack_in and not self.stack_out\n",
    "\n",
    "    def move(self):\n",
    "        if not self.stack_out:\n",
    "            while self.stack_in:\n",
    "                self.stack_out.append(self.stack_in.pop())"
   ]
  },
  {
   "cell_type": "markdown",
   "id": "fb9690d8",
   "metadata": {},
   "source": [
    "# 2. LeetCode 232. Implement Queue using Stacks"
   ]
  },
  {
   "cell_type": "code",
   "execution_count": null,
   "id": "8894375e",
   "metadata": {
    "vscode": {
     "languageId": "plaintext"
    }
   },
   "outputs": [],
   "source": [
    "class MyQueue:\n",
    "    def __init__(self):\n",
    "        self.stack_in = []\n",
    "        self.stack_out = []\n",
    "\n",
    "    def push(self, x: int) -> None:\n",
    "        self.stack_in.append(x)\n",
    "\n",
    "    def pop(self) -> int:\n",
    "        self.move()\n",
    "        return self.stack_out.pop()\n",
    "\n",
    "    def peek(self) -> int:\n",
    "        self.move()\n",
    "        return self.stack_out[-1]\n",
    "\n",
    "    def empty(self) -> bool:\n",
    "        return not self.stack_in and not self.stack_out\n",
    "\n",
    "    def move(self):\n",
    "        if not self.stack_out:\n",
    "            while self.stack_in:\n",
    "                self.stack_out.append(self.stack_in.pop())"
   ]
  },
  {
   "cell_type": "markdown",
   "id": "e699cb1b",
   "metadata": {},
   "source": [
    "# 3. 교재의 큐 연습문제"
   ]
  },
  {
   "cell_type": "code",
   "execution_count": null,
   "id": "aa6674e4",
   "metadata": {
    "vscode": {
     "languageId": "plaintext"
    }
   },
   "outputs": [],
   "source": [
    "class MyQueue:\n",
    "    def __init__(self):\n",
    "        self.stack_in = []\n",
    "        self.stack_out = []\n",
    "\n",
    "    def push(self, x: int) -> None:\n",
    "        self.stack_in.append(x)\n",
    "\n",
    "    def pop(self) -> int:\n",
    "        self.move()\n",
    "        return self.stack_out.pop()\n",
    "\n",
    "    def peek(self) -> int:\n",
    "        self.move()\n",
    "        return self.stack_out[-1]\n",
    "\n",
    "    def empty(self) -> bool:\n",
    "        return not self.stack_in and not self.stack_out\n",
    "\n",
    "    def move(self):\n",
    "        if not self.stack_out:\n",
    "            while self.stack_in:\n",
    "                self.stack_out.append(self.stack_in.pop())"
   ]
  }
 ],
 "metadata": {
  "language_info": {
   "name": "python"
  }
 },
 "nbformat": 4,
 "nbformat_minor": 5
}
